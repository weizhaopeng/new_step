{
 "cells": [
  {
   "cell_type": "code",
   "execution_count": 0,
   "metadata": {
    "id": "5ZGZth6_ZX0_",
    "colab_type": "code",
    "colab": {}
   },
   "outputs": [],
   "source": [
    "#This precedure is used to kaggle "
   ]
  },
  {
   "cell_type": "markdown",
   "metadata": {
    "id": "fGzbUY_ZZ1Jd",
    "colab_type": "text"
   },
   "source": [
    "In this document because of the colab is different to our computer, and our train data and test data for this problem is in google Drive,. so we have to connect to our google drive and as a pan drive."
   ]
  },
  {
   "cell_type": "code",
   "execution_count": 0,
   "metadata": {
    "id": "L72cZbZLaSf7",
    "colab_type": "code",
    "outputId": "7c11a464-06f1-48e4-b8a6-f57e4ce3afcb",
    "colab": {
     "base_uri": "https://localhost:8080/",
     "height": 234.0
    }
   },
   "outputs": [
    {
     "name": "stdout",
     "output_type": "stream",
     "text": [
      "E: Package 'python-software-properties' has no installation candidate\n",
      "Selecting previously unselected package google-drive-ocamlfuse.\n",
      "(Reading database ... 110851 files and directories currently installed.)\n",
      "Preparing to unpack .../google-drive-ocamlfuse_0.7.1-0ubuntu3~ubuntu18.04.1_amd64.deb ...\n",
      "Unpacking google-drive-ocamlfuse (0.7.1-0ubuntu3~ubuntu18.04.1) ...\n",
      "Setting up google-drive-ocamlfuse (0.7.1-0ubuntu3~ubuntu18.04.1) ...\n",
      "Processing triggers for man-db (2.8.3-2ubuntu0.1) ...\n",
      "Please, open the following URL in a web browser: https://accounts.google.com/o/oauth2/auth?client_id=32555940559.apps.googleusercontent.com&redirect_uri=urn%3Aietf%3Awg%3Aoauth%3A2.0%3Aoob&scope=https%3A%2F%2Fwww.googleapis.com%2Fauth%2Fdrive&response_type=code&access_type=offline&approval_prompt=force\n",
      "··········\n",
      "Please, open the following URL in a web browser: https://accounts.google.com/o/oauth2/auth?client_id=32555940559.apps.googleusercontent.com&redirect_uri=urn%3Aietf%3Awg%3Aoauth%3A2.0%3Aoob&scope=https%3A%2F%2Fwww.googleapis.com%2Fauth%2Fdrive&response_type=code&access_type=offline&approval_prompt=force\n",
      "Please enter the verification code: Access token retrieved correctly.\n"
     ]
    }
   ],
   "source": [
    "!apt-get install -y -qq software-properties-common python-software-properties module-init-tools\n",
    "!add-apt-repository -y ppa:alessandro-strada/ppa 2>&1 > /dev/null\n",
    "!apt-get update -qq 2>&1 > /dev/null\n",
    "!apt-get -y install -qq google-drive-ocamlfuse fuse\n",
    "from google.colab import auth\n",
    "auth.authenticate_user()\n",
    "from oauth2client.client import GoogleCredentials\n",
    "creds = GoogleCredentials.get_application_default()\n",
    "import getpass\n",
    "!google-drive-ocamlfuse -headless -id={creds.client_id} -secret={creds.client_secret} < /dev/null 2>&1 | grep URL\n",
    "vcode = getpass.getpass()\n",
    "!echo {vcode} | google-drive-ocamlfuse -headless -id={creds.client_id} -secret={creds.client_secret}"
   ]
  },
  {
   "cell_type": "markdown",
   "metadata": {
    "id": "Bo2qEY3ha4lB",
    "colab_type": "text"
   },
   "source": [
    "from previous precedure, the google drive is connect to our VM,and as a pan drive. and we make a directory and name is my drive"
   ]
  },
  {
   "cell_type": "code",
   "execution_count": 0,
   "metadata": {
    "id": "YkaQkiMHa2w5",
    "colab_type": "code",
    "colab": {}
   },
   "outputs": [],
   "source": [
    "!mkdir -p MyDrive\n",
    "!google-drive-ocamlfuse MyDrive"
   ]
  },
  {
   "cell_type": "markdown",
   "metadata": {
    "id": "O6VoAn3WbQxj",
    "colab_type": "text"
   },
   "source": [
    "read the google drive document by pandas"
   ]
  },
  {
   "cell_type": "code",
   "execution_count": 0,
   "metadata": {
    "id": "F216BfkRbP_C",
    "colab_type": "code",
    "colab": {}
   },
   "outputs": [],
   "source": [
    "import pandas as pd\n",
    "train = pd.read_csv('MyDrive/Colab Notebooks/train.csv')\n",
    "test = pd.read_csv('MyDrive/Colab Notebooks/test.csv')"
   ]
  },
  {
   "cell_type": "code",
   "execution_count": 0,
   "metadata": {
    "id": "AHiWtL3UcGl1",
    "colab_type": "code",
    "outputId": "0eb47bca-6a75-4b1f-f379-b389db4c6548",
    "colab": {
     "base_uri": "https://localhost:8080/",
     "height": 71.0
    }
   },
   "outputs": [
    {
     "name": "stderr",
     "output_type": "stream",
     "text": [
      "Using TensorFlow backend.\n"
     ]
    },
    {
     "name": "stdout",
     "output_type": "stream",
     "text": [
      "Downloading data from https://s3.amazonaws.com/img-datasets/mnist.npz\n",
      "11493376/11490434 [==============================] - 1s 0us/step\n"
     ]
    }
   ],
   "source": [
    "from keras.datasets import mnist\n",
    "\n",
    "(X_train, y_train), (X_test, y_test) = mnist.load_data()"
   ]
  },
  {
   "cell_type": "code",
   "execution_count": 0,
   "metadata": {
    "id": "TD0oxBMpeLOR",
    "colab_type": "code",
    "outputId": "9b899955-2f8c-4ebe-8374-fd71dfac71a7",
    "colab": {
     "base_uri": "https://localhost:8080/",
     "height": 53.0
    }
   },
   "outputs": [
    {
     "name": "stdout",
     "output_type": "stream",
     "text": [
      "(60000, 28, 28)\n",
      "(60000,)\n"
     ]
    }
   ],
   "source": [
    "print(X_train.shape)\n",
    "print (y_train.shape)"
   ]
  },
  {
   "cell_type": "code",
   "execution_count": 0,
   "metadata": {
    "id": "NfYmIINNvdUb",
    "colab_type": "code",
    "colab": {}
   },
   "outputs": [],
   "source": [
    "X_train = X_train.reshape([-1,784])\n",
    "Y_train = y_train.reshape([-1,1])"
   ]
  },
  {
   "cell_type": "code",
   "execution_count": 0,
   "metadata": {
    "id": "teWwyZ9Fvbls",
    "colab_type": "code",
    "outputId": "e4e37513-1e02-4538-ae46-b0deb9f90172",
    "colab": {
     "base_uri": "https://localhost:8080/",
     "height": 35.0
    }
   },
   "outputs": [
    {
     "name": "stdout",
     "output_type": "stream",
     "text": [
      "(60000, 784)\n"
     ]
    }
   ],
   "source": [
    "print (X_train.shape)"
   ]
  },
  {
   "cell_type": "code",
   "execution_count": 0,
   "metadata": {
    "id": "HYpCjS4oMhrY",
    "colab_type": "code",
    "outputId": "80ec46da-0cb4-4620-b1bf-7cd4c3878def",
    "colab": {
     "base_uri": "https://localhost:8080/",
     "height": 17.0
    }
   },
   "outputs": [
    {
     "data": {
      "text/html": [
       "<script>requirejs.config({paths: { 'plotly': ['https://cdn.plot.ly/plotly-latest.min']},});if(!window.Plotly) {{require(['plotly'],function(plotly) {window.Plotly=plotly;});}}</script>"
      ],
      "text/plain": [
       "<IPython.core.display.HTML object>"
      ]
     },
     "metadata": {
      "tags": []
     },
     "output_type": "execute_result"
    }
   ],
   "source": [
    "import numpy as np # linear algebra\n",
    "import pandas as pd # data processing, CSV file I/O (e.g. pd.read_csv)\n",
    "\n",
    "import plotly.offline as py\n",
    "py.init_notebook_mode(connected=True)\n",
    "import plotly.graph_objs as go\n",
    "import plotly.tools as tls\n",
    "import seaborn as sns\n",
    "import matplotlib.image as mpimg\n",
    "import matplotlib.pyplot as plt\n",
    "import matplotlib\n",
    "\n",
    "# Import PCA\n",
    "from sklearn.decomposition import PCA\n"
   ]
  },
  {
   "cell_type": "code",
   "execution_count": 0,
   "metadata": {
    "id": "8SfwB0_ilGTZ",
    "colab_type": "code",
    "colab": {}
   },
   "outputs": [],
   "source": [
    "#将数据集进行标准化处理\n",
    "from sklearn.preprocessing import StandardScaler\n",
    "X = train.values\n",
    "X_std = StandardScaler().fit_transform(X)\n",
    "\n",
    "# 计算协方差矩阵的特征值和特征向量\n",
    "mean_vec = np.mean(X_std, axis=0)\n",
    "cov_mat = np.cov(X_std.T)\n",
    "eig_vals, eig_vecs = np.linalg.eig(cov_mat)\n",
    "#创建（特征值，特征向量）元组对 的列表\n",
    "# Create a list of (eigenvalue, eigenvector) tuples\n",
    "eig_pairs = [ (np.abs(eig_vals[i]),eig_vecs[:,i]) for i in range(len(eig_vals))]\n",
    "\n",
    "# Sort the eigenvalue, eigenvector pair from high to low\n",
    "eig_pairs.sort(key = lambda x: x[0], reverse= True)\n",
    "\n",
    "# Calculation of Explained Variance from the eigenvalues\n",
    "tot = sum(eig_vals) #特征值的和\n",
    "var_exp = [(i/tot)*100 for i in sorted(eig_vals, reverse=True)] #单个特征值所占的比重\n",
    "cum_var_exp = np.cumsum(var_exp) # 特征值累计比重"
   ]
  },
  {
   "cell_type": "code",
   "execution_count": 0,
   "metadata": {
    "id": "pxo51cervSJv",
    "colab_type": "code",
    "outputId": "a9132847-47b8-4f6e-c4b9-d54772dc82a3",
    "colab": {
     "base_uri": "https://localhost:8080/",
     "height": 419.0
    }
   },
   "outputs": [
    {
     "name": "stdout",
     "output_type": "stream",
     "text": [
      "(784, 9)\n",
      "(60000, 9)\n"
     ]
    },
    {
     "name": "stderr",
     "output_type": "stream",
     "text": [
      "/usr/local/lib/python3.6/dist-packages/numpy/core/numeric.py:544: ComplexWarning: Casting complex values to real discards the imaginary part\n",
      "  return array(a, dtype, copy=False, order=order, subok=True)\n"
     ]
    },
    {
     "data": {
      "image/png": "[encoded data removed]",
      "text/plain": [
       "<matplotlib.figure.Figure at 0x7f130249b320>"
      ]
     },
     "metadata": {
      "tags": []
     },
     "output_type": "display_data"
    }
   ],
   "source": [
    "\n",
    "import numpy as np\n",
    "\n",
    "\n",
    "import matplotlib.pyplot as plt\n",
    "\n",
    "from sklearn.discriminant_analysis import LinearDiscriminantAnalysis\n",
    "\n",
    " \n",
    "\n",
    " \n",
    "\n",
    "def LDA_dimensionality(X, y, k):\n",
    "\n",
    "    '''\n",
    "\n",
    "    X为数据集，y为label，k为目标维数\n",
    "\n",
    "    '''\n",
    "\n",
    "    label_ = list(set(y))\n",
    "\n",
    " \n",
    "\n",
    "    X_classify = {}\n",
    "\n",
    " \n",
    "\n",
    "    for label in label_:\n",
    "\n",
    "        X1 = np.array([X[i] for i in range(len(X)) if y[i] == label])\n",
    "\n",
    "        X_classify[label] = X1\n",
    "\n",
    " \n",
    "\n",
    "    mju = np.mean(X, axis=0)\n",
    "\n",
    "    mju_classify = {}\n",
    "\n",
    " \n",
    "\n",
    "    for label in label_:\n",
    "\n",
    "        mju1 = np.mean(X_classify[label], axis=0)\n",
    "\n",
    "        mju_classify[label] = mju1\n",
    "\n",
    " \n",
    "\n",
    "    #St = np.dot((X - mju).T, X - mju)\n",
    "\n",
    " \n",
    "\n",
    "    Sw = np.zeros((len(mju), len(mju)))+ 0.0001*np.eye(len(mju))  # 计算类内散度矩阵\n",
    "\n",
    "    for i in label_:\n",
    "\n",
    "        Sw += np.dot((X_classify[i] - mju_classify[i]).T,\n",
    "\n",
    "                     X_classify[i] - mju_classify[i])\n",
    "\n",
    " \n",
    "\n",
    "    # Sb=St-Sw\n",
    "\n",
    " \n",
    "\n",
    "    Sb = np.zeros((len(mju), len(mju)))  # 计算类间散度矩阵\n",
    "\n",
    "    for i in label_:\n",
    "\n",
    "        Sb += len(X_classify[i]) * np.dot((mju_classify[i] - mju).reshape(\n",
    "\n",
    "            (len(mju), 1)), (mju_classify[i] - mju).reshape((1, len(mju))))\n",
    "\n",
    " \n",
    "\n",
    "    eig_vals, eig_vecs = np.linalg.eig(\n",
    "\n",
    "        np.linalg.inv(Sw).dot(Sb))  # 计算Sw-1*Sb的特征值和特征矩阵\n",
    "\n",
    " \n",
    "\n",
    "    sorted_indices = np.argsort(eig_vals)\n",
    "\n",
    "    topk_eig_vecs = eig_vecs[:, sorted_indices[:-k - 1:-1]]  # 提取前k个特征向量\n",
    "\n",
    "    return topk_eig_vecs\n",
    "\n",
    "\n",
    "if '__main__' == __name__:\n",
    "    X = X_train\n",
    "    y = y_train\n",
    "    W = LDA_dimensionality(X, y, 9)\n",
    "    print (W.shape)\n",
    "    X_new = np.dot((X), W)\n",
    "    \n",
    "    print (X_new.shape)\n",
    "    plt.figure(1)\n",
    "    plt.scatter(X_new[:, 1], X_new[:, 2], marker='o', c=y)\n",
    "    plt.show()\n"
   ]
  },
  {
   "cell_type": "code",
   "execution_count": 0,
   "metadata": {
    "id": "gWrqskqA2Zqb",
    "colab_type": "code",
    "outputId": "7f13628e-052b-466b-cb9d-0ac331f8df96",
    "colab": {
     "base_uri": "https://localhost:8080/",
     "height": 35.0
    }
   },
   "outputs": [
    {
     "name": "stdout",
     "output_type": "stream",
     "text": [
      "Train Score:1.000000\n"
     ]
    }
   ],
   "source": [
    "from sklearn import neighbors\n",
    "clf = neighbors.KNeighborsClassifier(n_neighbors = 1 , weights='distance')\n",
    "clf.fit(X, y)\n",
    "\n",
    "print ('Train Score:%f' %clf.score(X,y))\n"
   ]
  },
  {
   "cell_type": "code",
   "execution_count": 0,
   "metadata": {
    "id": "HU4tFpuHUFfz",
    "colab_type": "code",
    "colab": {}
   },
   "outputs": [],
   "source": [
    "X_test = X_test.reshape([-1,784])\n",
    "Y_test = y_test.reshape([-1,1])"
   ]
  },
  {
   "cell_type": "code",
   "execution_count": 0,
   "metadata": {
    "id": "WygMnMXbUPTR",
    "colab_type": "code",
    "outputId": "636345a1-72ef-4108-d469-3677d2cbfdc1",
    "colab": {
     "base_uri": "https://localhost:8080/",
     "height": 35.0
    }
   },
   "outputs": [
    {
     "name": "stdout",
     "output_type": "stream",
     "text": [
      "(10000, 784)\n"
     ]
    }
   ],
   "source": [
    "print (X_test.shape)"
   ]
  },
  {
   "cell_type": "code",
   "execution_count": 0,
   "metadata": {
    "id": "n9L6l173UhLT",
    "colab_type": "code",
    "outputId": "d7246162-fd23-4e8c-f84e-de551368dac8",
    "colab": {
     "base_uri": "https://localhost:8080/",
     "height": 35.0
    }
   },
   "outputs": [
    {
     "name": "stdout",
     "output_type": "stream",
     "text": [
      "Train Score:0.969100\n"
     ]
    }
   ],
   "source": [
    "print ('Train Score:%f' %clf.score(X_test,Y_test))"
   ]
  },
  {
   "cell_type": "code",
   "execution_count": 0,
   "metadata": {
    "id": "8moWzF9xbNfR",
    "colab_type": "code",
    "outputId": "7b6cb50b-1766-4850-de47-e29f860b0a9d",
    "colab": {
     "base_uri": "https://localhost:8080/",
     "height": 35.0
    }
   },
   "outputs": [
    {
     "name": "stdout",
     "output_type": "stream",
     "text": [
      "(100, 784)\n"
     ]
    }
   ],
   "source": [
    "X_pre = X_test[300:400,:]\n",
    "print (X_pre.shape)"
   ]
  },
  {
   "cell_type": "code",
   "execution_count": 0,
   "metadata": {
    "id": "KAyUJ6d5b0N7",
    "colab_type": "code",
    "outputId": "6b2945d7-acaa-454e-bc15-b5860130e5fd",
    "colab": {
     "base_uri": "https://localhost:8080/",
     "height": 71.0
    }
   },
   "outputs": [
    {
     "name": "stdout",
     "output_type": "stream",
     "text": [
      "[1 7 1 2 4 0 2 7 4 3 3 0 0 3 1 9 6 5 2 5 7 7 9 3 0 4 2 0 7 1 1 2 1 5 3 3 9\n",
      " 7 8 6 5 4 1 3 8 1 0 5 1 3 1 5 5 6 1 8 5 1 4 9 4 6 2 2 5 0 6 5 6 3 7 2 0 8\n",
      " 8 5 4 1 1 4 0 7 3 7 6 1 6 2 1 9 2 8 6 1 9 5 2 5 4 4]\n"
     ]
    }
   ],
   "source": [
    "print (clf.predict(X_pre))"
   ]
  },
  {
   "cell_type": "code",
   "execution_count": 0,
   "metadata": {
    "id": "QHoRguhGc39e",
    "colab_type": "code",
    "outputId": "dbe1fc72-690d-498d-c671-caef678ad647",
    "colab": {
     "base_uri": "https://localhost:8080/",
     "height": 71.0
    }
   },
   "outputs": [
    {
     "name": "stdout",
     "output_type": "stream",
     "text": [
      "[4 7 1 2 4 0 2 7 4 3 3 0 0 3 1 9 6 5 2 5 9 2 9 3 0 4 2 0 7 1 1 2 1 5 3 3 9\n",
      " 7 8 6 5 6 1 3 8 1 0 5 1 3 1 5 5 6 1 8 5 1 7 9 4 6 2 2 5 0 6 5 6 3 7 2 0 8\n",
      " 8 5 4 1 1 4 0 3 3 7 6 1 6 2 1 9 2 8 6 1 9 5 2 5 4 4]\n"
     ]
    }
   ],
   "source": [
    "print (Y_test.reshape([1,-1])[0,300:400])"
   ]
  },
  {
   "cell_type": "code",
   "execution_count": 0,
   "metadata": {
    "id": "AG69n5V1hpBf",
    "colab_type": "code",
    "colab": {}
   },
   "outputs": [],
   "source": [
    "X_test115 = X_test[338,:].reshape([28,28])"
   ]
  },
  {
   "cell_type": "code",
   "execution_count": 0,
   "metadata": {
    "id": "7eZ6hjZjhvi0",
    "colab_type": "code",
    "outputId": "b0d08f42-5b2b-4ca6-ca8b-7195afeed9dd",
    "colab": {
     "base_uri": "https://localhost:8080/",
     "height": 437.0
    }
   },
   "outputs": [
    {
     "name": "stdout",
     "output_type": "stream",
     "text": [
      "(28, 28)\n"
     ]
    },
    {
     "name": "stderr",
     "output_type": "stream",
     "text": [
      "/usr/local/lib/python3.6/dist-packages/ipykernel_launcher.py:4: DeprecationWarning: `imsave` is deprecated!\n",
      "`imsave` is deprecated in SciPy 1.0.0, and will be removed in 1.2.0.\n",
      "Use ``imageio.imwrite`` instead.\n",
      "  after removing the cwd from sys.path.\n"
     ]
    },
    {
     "data": {
      "image/png": "[encoded data removed]",
      "text/plain": [
       "<matplotlib.figure.Figure at 0x7f12fa57e278>"
      ]
     },
     "metadata": {
      "tags": []
     },
     "output_type": "display_data"
    }
   ],
   "source": [
    "import scipy.misc\n",
    "print (X_test115.shape)\n",
    "plt.imshow(X_test115)\n",
    "scipy.misc.imsave(\"MyDrive/Colab Notebooks/338_T8_P8.jpg\",np.array(X_test115))\n",
    "plt.show()\n"
   ]
  },
  {
   "cell_type": "code",
   "execution_count": 0,
   "metadata": {
    "id": "TurOXCF5t3W9",
    "colab_type": "code",
    "colab": {}
   },
   "outputs": [],
   "source": [
    "def Normalize(data):\n",
    "    m = np.mean(data)\n",
    "    mx = data.max()\n",
    "    mn = data.min()\n",
    "    return [(float(i) - m) / (mx - mn) for i in data]"
   ]
  },
  {
   "cell_type": "code",
   "execution_count": 0,
   "metadata": {
    "id": "bl7nC0LxkP5U",
    "colab_type": "code",
    "outputId": "759d8a94-8a57-4fd2-a9e0-e41fbbd29a6f",
    "colab": {
     "base_uri": "https://localhost:8080/",
     "height": 332.0
    }
   },
   "outputs": [
    {
     "ename": "ValueError",
     "evalue": "ignored",
     "traceback": [
      "\u001b[0;31m---------------------------------------------------------------------------\u001b[0m",
      "\u001b[0;31mValueError\u001b[0m                                Traceback (most recent call last)",
      "\u001b[0;32m<ipython-input-128-14e4f70a8101>\u001b[0m in \u001b[0;36m<module>\u001b[0;34m()\u001b[0m\n\u001b[1;32m      1\u001b[0m \u001b[0mPat\u001b[0m \u001b[0;34m=\u001b[0m \u001b[0mW\u001b[0m\u001b[0;34m[\u001b[0m\u001b[0;34m:\u001b[0m\u001b[0;34m,\u001b[0m\u001b[0;36m3\u001b[0m\u001b[0;34m]\u001b[0m\u001b[0;34m.\u001b[0m\u001b[0mreshape\u001b[0m\u001b[0;34m(\u001b[0m\u001b[0;34m[\u001b[0m\u001b[0;36m28\u001b[0m\u001b[0;34m,\u001b[0m\u001b[0;36m28\u001b[0m\u001b[0;34m]\u001b[0m\u001b[0;34m)\u001b[0m\u001b[0;34m\u001b[0m\u001b[0;34m\u001b[0m\u001b[0m\n\u001b[0;32m----> 2\u001b[0;31m \u001b[0mplt\u001b[0m\u001b[0;34m.\u001b[0m\u001b[0mimshow\u001b[0m\u001b[0;34m(\u001b[0m\u001b[0mNormalize\u001b[0m\u001b[0;34m(\u001b[0m\u001b[0mPat\u001b[0m\u001b[0;34m.\u001b[0m\u001b[0mreal\u001b[0m\u001b[0;34m)\u001b[0m\u001b[0;34m)\u001b[0m\u001b[0;34m\u001b[0m\u001b[0;34m\u001b[0m\u001b[0m\n\u001b[0m\u001b[1;32m      3\u001b[0m \u001b[0mplt\u001b[0m\u001b[0;34m.\u001b[0m\u001b[0mshow\u001b[0m\u001b[0;34m(\u001b[0m\u001b[0;34m)\u001b[0m\u001b[0;34m\u001b[0m\u001b[0;34m\u001b[0m\u001b[0m\n",
      "\u001b[0;32m<ipython-input-127-584db0e7d440>\u001b[0m in \u001b[0;36mNormalize\u001b[0;34m(data)\u001b[0m\n\u001b[1;32m      1\u001b[0m \u001b[0;32mdef\u001b[0m \u001b[0mNormalize\u001b[0m\u001b[0;34m(\u001b[0m\u001b[0mdata\u001b[0m\u001b[0;34m)\u001b[0m\u001b[0;34m:\u001b[0m\u001b[0;34m\u001b[0m\u001b[0;34m\u001b[0m\u001b[0m\n\u001b[1;32m      2\u001b[0m     \u001b[0mm\u001b[0m \u001b[0;34m=\u001b[0m \u001b[0mnp\u001b[0m\u001b[0;34m.\u001b[0m\u001b[0mmean\u001b[0m\u001b[0;34m(\u001b[0m\u001b[0mdata\u001b[0m\u001b[0;34m)\u001b[0m\u001b[0;34m\u001b[0m\u001b[0;34m\u001b[0m\u001b[0m\n\u001b[0;32m----> 3\u001b[0;31m     \u001b[0mmx\u001b[0m \u001b[0;34m=\u001b[0m \u001b[0mmax\u001b[0m\u001b[0;34m(\u001b[0m\u001b[0mdata\u001b[0m\u001b[0;34m)\u001b[0m\u001b[0;34m\u001b[0m\u001b[0;34m\u001b[0m\u001b[0m\n\u001b[0m\u001b[1;32m      4\u001b[0m     \u001b[0mmn\u001b[0m \u001b[0;34m=\u001b[0m \u001b[0mmin\u001b[0m\u001b[0;34m(\u001b[0m\u001b[0mdata\u001b[0m\u001b[0;34m)\u001b[0m\u001b[0;34m\u001b[0m\u001b[0;34m\u001b[0m\u001b[0m\n\u001b[1;32m      5\u001b[0m     \u001b[0;32mreturn\u001b[0m \u001b[0;34m[\u001b[0m\u001b[0;34m(\u001b[0m\u001b[0mfloat\u001b[0m\u001b[0;34m(\u001b[0m\u001b[0mi\u001b[0m\u001b[0;34m)\u001b[0m \u001b[0;34m-\u001b[0m \u001b[0mm\u001b[0m\u001b[0;34m)\u001b[0m \u001b[0;34m/\u001b[0m \u001b[0;34m(\u001b[0m\u001b[0mmx\u001b[0m \u001b[0;34m-\u001b[0m \u001b[0mmn\u001b[0m\u001b[0;34m)\u001b[0m \u001b[0;32mfor\u001b[0m \u001b[0mi\u001b[0m \u001b[0;32min\u001b[0m \u001b[0mdata\u001b[0m\u001b[0;34m]\u001b[0m\u001b[0;34m\u001b[0m\u001b[0;34m\u001b[0m\u001b[0m\n",
      "\u001b[0;31mValueError\u001b[0m: The truth value of an array with more than one element is ambiguous. Use a.any() or a.all()"
     ],
     "output_type": "error"
    }
   ],
   "source": [
    "Pat = W[:,3].reshape([28,28])\n",
    "plt.imshow(Normalize(Pat.real))\n",
    "plt.show()"
   ]
  },
  {
   "cell_type": "code",
   "execution_count": 0,
   "metadata": {
    "id": "E8JaSRPHt2B3",
    "colab_type": "code",
    "colab": {}
   },
   "outputs": [],
   "source": [
    ""
   ]
  }
 ],
 "metadata": {
  "colab": {
   "name": "LDA+Ghostimaging.ipynb",
   "version": "0.3.2",
   "provenance": [],
   "collapsed_sections": []
  },
  "kernelspec": {
   "name": "python3",
   "display_name": "Python 3"
  },
  "accelerator": "GPU"
 },
 "nbformat": 4,
 "nbformat_minor": 0
}
